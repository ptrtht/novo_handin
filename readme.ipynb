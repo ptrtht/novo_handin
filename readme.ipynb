{
 "cells": [
  {
   "cell_type": "code",
   "execution_count": null,
   "metadata": {},
   "outputs": [],
   "source": [
    "\n",
    "import pandas as pd\n",
    "import numpy as np\n",
    "import datetime\n",
    "from typing import Tuple\n",
    "from tabulate import tabulate\n",
    "import seaborn as sns\n",
    "import matplotlib.pyplot as plt"
   ]
  },
  {
   "cell_type": "code",
   "execution_count": null,
   "metadata": {},
   "outputs": [],
   "source": [
    "ph1 = pd.read_csv('./csvs/400E_PH1.csv', sep='\\\\t', engine='python')\n",
    "ph2 = pd.read_csv('./csvs/400E_PH2.csv', sep='\\\\t', engine='python')\n",
    "temp1 = pd.read_csv('./csvs/400E_Temp1.csv', sep='\\\\t', engine='python')\n",
    "temp2 = pd.read_csv('./csvs/400E_Temp2.csv', sep='\\\\t', engine='python')\n",
    "binf =  pd.read_csv('./csvs/batch_info.csv', sep='\\\\t', engine='python')\n",
    "bphase =  pd.read_csv('./csvs/batch_phase.csv', sep='\\\\t', engine='python')"
   ]
  },
  {
   "cell_type": "markdown",
   "metadata": {},
   "source": [
    "### Don't mind this, just familirializing myself. Here for reference"
   ]
  },
  {
   "cell_type": "code",
   "execution_count": null,
   "metadata": {},
   "outputs": [
    {
     "data": {
      "text/html": [
       "<div>\n",
       "<style scoped>\n",
       "    .dataframe tbody tr th:only-of-type {\n",
       "        vertical-align: middle;\n",
       "    }\n",
       "\n",
       "    .dataframe tbody tr th {\n",
       "        vertical-align: top;\n",
       "    }\n",
       "\n",
       "    .dataframe thead th {\n",
       "        text-align: right;\n",
       "    }\n",
       "</style>\n",
       "<table border=\"1\" class=\"dataframe\">\n",
       "  <thead>\n",
       "    <tr style=\"text-align: right;\">\n",
       "      <th></th>\n",
       "      <th>StartDate</th>\n",
       "      <th>EndDate</th>\n",
       "      <th>BatchID</th>\n",
       "    </tr>\n",
       "  </thead>\n",
       "  <tbody>\n",
       "    <tr>\n",
       "      <th>0</th>\n",
       "      <td>2022-04-02 00:00:26</td>\n",
       "      <td>2022-04-02 22:45:26</td>\n",
       "      <td>AP400E0101</td>\n",
       "    </tr>\n",
       "    <tr>\n",
       "      <th>1</th>\n",
       "      <td>2022-04-02 22:45:26</td>\n",
       "      <td>2022-04-03 02:03:26</td>\n",
       "      <td>None</td>\n",
       "    </tr>\n",
       "    <tr>\n",
       "      <th>2</th>\n",
       "      <td>2022-04-03 02:03:26</td>\n",
       "      <td>2022-04-04 00:55:26</td>\n",
       "      <td>TEST_001</td>\n",
       "    </tr>\n",
       "    <tr>\n",
       "      <th>3</th>\n",
       "      <td>2022-04-04 00:55:26</td>\n",
       "      <td>2022-04-04 04:12:26</td>\n",
       "      <td>None</td>\n",
       "    </tr>\n",
       "    <tr>\n",
       "      <th>4</th>\n",
       "      <td>2022-04-04 04:12:26</td>\n",
       "      <td>2022-04-05 02:09:26</td>\n",
       "      <td>AP400E0102</td>\n",
       "    </tr>\n",
       "  </tbody>\n",
       "</table>\n",
       "</div>"
      ],
      "text/plain": [
       "             StartDate              EndDate     BatchID\n",
       "0  2022-04-02 00:00:26  2022-04-02 22:45:26  AP400E0101\n",
       "1  2022-04-02 22:45:26  2022-04-03 02:03:26        None\n",
       "2  2022-04-03 02:03:26  2022-04-04 00:55:26    TEST_001\n",
       "3  2022-04-04 00:55:26  2022-04-04 04:12:26        None\n",
       "4  2022-04-04 04:12:26  2022-04-05 02:09:26  AP400E0102"
      ]
     },
     "execution_count": 5,
     "metadata": {},
     "output_type": "execute_result"
    }
   ],
   "source": [
    "binf.head()"
   ]
  },
  {
   "cell_type": "code",
   "execution_count": null,
   "metadata": {},
   "outputs": [
    {
     "data": {
      "text/html": [
       "<div>\n",
       "<style scoped>\n",
       "    .dataframe tbody tr th:only-of-type {\n",
       "        vertical-align: middle;\n",
       "    }\n",
       "\n",
       "    .dataframe tbody tr th {\n",
       "        vertical-align: top;\n",
       "    }\n",
       "\n",
       "    .dataframe thead th {\n",
       "        text-align: right;\n",
       "    }\n",
       "</style>\n",
       "<table border=\"1\" class=\"dataframe\">\n",
       "  <thead>\n",
       "    <tr style=\"text-align: right;\">\n",
       "      <th></th>\n",
       "      <th>StartDate</th>\n",
       "      <th>EndDate</th>\n",
       "      <th>BatchPhase</th>\n",
       "    </tr>\n",
       "  </thead>\n",
       "  <tbody>\n",
       "    <tr>\n",
       "      <th>0</th>\n",
       "      <td>2022-04-02 00:00:26</td>\n",
       "      <td>2022-04-02 01:17:26</td>\n",
       "      <td>preperation</td>\n",
       "    </tr>\n",
       "    <tr>\n",
       "      <th>1</th>\n",
       "      <td>2022-04-02 01:17:26</td>\n",
       "      <td>2022-04-02 22:45:26</td>\n",
       "      <td>cultivation</td>\n",
       "    </tr>\n",
       "    <tr>\n",
       "      <th>2</th>\n",
       "      <td>2022-04-03 02:03:26</td>\n",
       "      <td>2022-04-03 04:14:26</td>\n",
       "      <td>preperation</td>\n",
       "    </tr>\n",
       "    <tr>\n",
       "      <th>3</th>\n",
       "      <td>2022-04-03 04:14:26</td>\n",
       "      <td>2022-04-04 00:55:26</td>\n",
       "      <td>cultivation</td>\n",
       "    </tr>\n",
       "    <tr>\n",
       "      <th>4</th>\n",
       "      <td>2022-04-04 04:12:26</td>\n",
       "      <td>2022-04-04 05:29:26</td>\n",
       "      <td>preperation</td>\n",
       "    </tr>\n",
       "  </tbody>\n",
       "</table>\n",
       "</div>"
      ],
      "text/plain": [
       "             StartDate              EndDate   BatchPhase\n",
       "0  2022-04-02 00:00:26  2022-04-02 01:17:26  preperation\n",
       "1  2022-04-02 01:17:26  2022-04-02 22:45:26  cultivation\n",
       "2  2022-04-03 02:03:26  2022-04-03 04:14:26  preperation\n",
       "3  2022-04-03 04:14:26  2022-04-04 00:55:26  cultivation\n",
       "4  2022-04-04 04:12:26  2022-04-04 05:29:26  preperation"
      ]
     },
     "execution_count": 6,
     "metadata": {},
     "output_type": "execute_result"
    }
   ],
   "source": [
    "bphase.head()"
   ]
  },
  {
   "cell_type": "code",
   "execution_count": null,
   "metadata": {},
   "outputs": [
    {
     "data": {
      "text/html": [
       "<div>\n",
       "<style scoped>\n",
       "    .dataframe tbody tr th:only-of-type {\n",
       "        vertical-align: middle;\n",
       "    }\n",
       "\n",
       "    .dataframe tbody tr th {\n",
       "        vertical-align: top;\n",
       "    }\n",
       "\n",
       "    .dataframe thead th {\n",
       "        text-align: right;\n",
       "    }\n",
       "</style>\n",
       "<table border=\"1\" class=\"dataframe\">\n",
       "  <thead>\n",
       "    <tr style=\"text-align: right;\">\n",
       "      <th></th>\n",
       "      <th>timestamp</th>\n",
       "      <th>value</th>\n",
       "    </tr>\n",
       "  </thead>\n",
       "  <tbody>\n",
       "    <tr>\n",
       "      <th>0</th>\n",
       "      <td>2022-04-02 00:00:35</td>\n",
       "      <td>0.352057</td>\n",
       "    </tr>\n",
       "    <tr>\n",
       "      <th>1</th>\n",
       "      <td>2022-04-02 00:01:35</td>\n",
       "      <td>0.576753</td>\n",
       "    </tr>\n",
       "    <tr>\n",
       "      <th>2</th>\n",
       "      <td>2022-04-02 00:02:35</td>\n",
       "      <td>0.452109</td>\n",
       "    </tr>\n",
       "    <tr>\n",
       "      <th>3</th>\n",
       "      <td>2022-04-02 00:03:35</td>\n",
       "      <td>-1.422447</td>\n",
       "    </tr>\n",
       "    <tr>\n",
       "      <th>4</th>\n",
       "      <td>2022-04-02 00:04:35</td>\n",
       "      <td>-1.095043</td>\n",
       "    </tr>\n",
       "  </tbody>\n",
       "</table>\n",
       "</div>"
      ],
      "text/plain": [
       "             timestamp     value\n",
       "0  2022-04-02 00:00:35  0.352057\n",
       "1  2022-04-02 00:01:35  0.576753\n",
       "2  2022-04-02 00:02:35  0.452109\n",
       "3  2022-04-02 00:03:35 -1.422447\n",
       "4  2022-04-02 00:04:35 -1.095043"
      ]
     },
     "execution_count": 7,
     "metadata": {},
     "output_type": "execute_result"
    }
   ],
   "source": [
    "ph1.head()"
   ]
  },
  {
   "cell_type": "code",
   "execution_count": null,
   "metadata": {},
   "outputs": [
    {
     "data": {
      "text/html": [
       "<div>\n",
       "<style scoped>\n",
       "    .dataframe tbody tr th:only-of-type {\n",
       "        vertical-align: middle;\n",
       "    }\n",
       "\n",
       "    .dataframe tbody tr th {\n",
       "        vertical-align: top;\n",
       "    }\n",
       "\n",
       "    .dataframe thead th {\n",
       "        text-align: right;\n",
       "    }\n",
       "</style>\n",
       "<table border=\"1\" class=\"dataframe\">\n",
       "  <thead>\n",
       "    <tr style=\"text-align: right;\">\n",
       "      <th></th>\n",
       "      <th>timestamp</th>\n",
       "      <th>value</th>\n",
       "    </tr>\n",
       "  </thead>\n",
       "  <tbody>\n",
       "    <tr>\n",
       "      <th>0</th>\n",
       "      <td>2022-04-02 00:00:48</td>\n",
       "      <td>-0.448198</td>\n",
       "    </tr>\n",
       "    <tr>\n",
       "      <th>1</th>\n",
       "      <td>2022-04-02 00:01:48</td>\n",
       "      <td>-0.493021</td>\n",
       "    </tr>\n",
       "    <tr>\n",
       "      <th>2</th>\n",
       "      <td>2022-04-02 00:02:48</td>\n",
       "      <td>1.113359</td>\n",
       "    </tr>\n",
       "    <tr>\n",
       "      <th>3</th>\n",
       "      <td>2022-04-02 00:03:48</td>\n",
       "      <td>-0.010512</td>\n",
       "    </tr>\n",
       "    <tr>\n",
       "      <th>4</th>\n",
       "      <td>2022-04-02 00:04:48</td>\n",
       "      <td>0.666726</td>\n",
       "    </tr>\n",
       "  </tbody>\n",
       "</table>\n",
       "</div>"
      ],
      "text/plain": [
       "             timestamp     value\n",
       "0  2022-04-02 00:00:48 -0.448198\n",
       "1  2022-04-02 00:01:48 -0.493021\n",
       "2  2022-04-02 00:02:48  1.113359\n",
       "3  2022-04-02 00:03:48 -0.010512\n",
       "4  2022-04-02 00:04:48  0.666726"
      ]
     },
     "execution_count": 8,
     "metadata": {},
     "output_type": "execute_result"
    }
   ],
   "source": [
    "temp1.head()"
   ]
  },
  {
   "cell_type": "markdown",
   "metadata": {},
   "source": [
    "# How to solve?"
   ]
  },
  {
   "cell_type": "markdown",
   "metadata": {},
   "source": [
    "So as i understand the first task would be to centrailse the data into their respective batches.\n",
    "\n",
    "This can be done a variety of ways, I'll use pandas here to check / validate stuff; and will make a more robust SQL solution as well with it.\n",
    "\n",
    "The reason behind this thinking is that with python I can work on a (relatively) small sample and really understand the data and the process (for this sample), which means I'll be able to create a more powerful SQL implementation (that is generic)."
   ]
  },
  {
   "cell_type": "markdown",
   "metadata": {},
   "source": [
    "## Python / Pandas solution"
   ]
  },
  {
   "cell_type": "markdown",
   "metadata": {},
   "source": [
    "Okay, easiest way to achive that is to bucket the data into a minute level and just slap it into one df.\n",
    "I know that this is not \"generic\" but my idea is to go throught the steps in python first to better understand what to watch out for, after that implement a generic solution in pythons / sql / quicksight."
   ]
  },
  {
   "cell_type": "markdown",
   "metadata": {},
   "source": [
    "### 1. Data types"
   ]
  },
  {
   "cell_type": "markdown",
   "metadata": {},
   "source": [
    "Datetime + rounding"
   ]
  },
  {
   "cell_type": "code",
   "execution_count": null,
   "metadata": {},
   "outputs": [],
   "source": [
    "binf.StartDate = pd.to_datetime(binf.StartDate)\n",
    "binf.EndDate = pd.to_datetime(binf.EndDate)\n",
    "bphase.StartDate = pd.to_datetime(bphase.StartDate)\n",
    "bphase.EndDate = pd.to_datetime(bphase.EndDate)\n",
    "\n",
    "\n",
    "ph1.timestamp = pd.to_datetime(ph1.timestamp).round(\"min\")\n",
    "ph1[\"ph1_val\"] = ph1[\"value\"]\n",
    "ph2.timestamp = pd.to_datetime(ph2.timestamp).round(\"min\")\n",
    "ph2[\"ph2_val\"] = ph2[\"value\"]\n",
    "temp1.timestamp = pd.to_datetime(temp1.timestamp).round(\"min\")\n",
    "temp1[\"temp1_val\"] = temp1[\"value\"]\n",
    "temp2.timestamp = pd.to_datetime(temp2.timestamp).round(\"min\")\n",
    "temp2[\"temp2_val\"] = temp2[\"value\"]"
   ]
  },
  {
   "cell_type": "code",
   "execution_count": null,
   "metadata": {},
   "outputs": [
    {
     "name": "stdout",
     "output_type": "stream",
     "text": [
      "<class 'pandas.core.frame.DataFrame'>\n",
      "RangeIndex: 14206 entries, 0 to 14205\n",
      "Data columns (total 3 columns):\n",
      " #   Column     Non-Null Count  Dtype         \n",
      "---  ------     --------------  -----         \n",
      " 0   timestamp  14206 non-null  datetime64[ns]\n",
      " 1   value      14206 non-null  float64       \n",
      " 2   ph1_val    14206 non-null  float64       \n",
      "dtypes: datetime64[ns](1), float64(2)\n",
      "memory usage: 333.1 KB\n"
     ]
    }
   ],
   "source": [
    "ph1.info() # Its datetime64 yayy"
   ]
  },
  {
   "cell_type": "markdown",
   "metadata": {},
   "source": [
    "I sense that this None is gonna give us a headache, so lets convert it to a String"
   ]
  },
  {
   "cell_type": "code",
   "execution_count": null,
   "metadata": {},
   "outputs": [],
   "source": [
    "binf.BatchID = binf[\"BatchID\"].astype(str)"
   ]
  },
  {
   "cell_type": "code",
   "execution_count": null,
   "metadata": {},
   "outputs": [
    {
     "name": "stdout",
     "output_type": "stream",
     "text": [
      "None <class 'str'>\n"
     ]
    }
   ],
   "source": [
    "__test = binf.BatchID[1]\n",
    "print(__test, type(__test))"
   ]
  },
  {
   "cell_type": "markdown",
   "metadata": {},
   "source": [
    "lets rename the dates to be more descriptive"
   ]
  },
  {
   "cell_type": "code",
   "execution_count": null,
   "metadata": {},
   "outputs": [],
   "source": [
    "binf[\"BatchStart\"] = binf.StartDate\n",
    "binf[\"BatchEnd\"] = binf.EndDate\n",
    "binf = binf.drop(\"StartDate\", axis=1)\n",
    "binf = binf.drop(\"EndDate\", axis=1)"
   ]
  },
  {
   "cell_type": "code",
   "execution_count": null,
   "metadata": {},
   "outputs": [],
   "source": [
    "bphase[\"PhaseStart\"] = bphase.StartDate\n",
    "bphase[\"PhaseEnd\"] = bphase.EndDate\n",
    "bphase = bphase.drop(\"StartDate\", axis=1)\n",
    "bphase = bphase.drop(\"EndDate\", axis=1)"
   ]
  },
  {
   "cell_type": "markdown",
   "metadata": {},
   "source": [
    "yayy str"
   ]
  },
  {
   "cell_type": "markdown",
   "metadata": {},
   "source": [
    "### 2. combining the value data frames"
   ]
  },
  {
   "cell_type": "code",
   "execution_count": null,
   "metadata": {},
   "outputs": [],
   "source": [
    "sensors = ph1.combine_first(ph2).combine_first(temp1).combine_first(temp2).drop(\"value\", axis=1)"
   ]
  },
  {
   "cell_type": "code",
   "execution_count": null,
   "metadata": {},
   "outputs": [
    {
     "data": {
      "text/html": [
       "<div>\n",
       "<style scoped>\n",
       "    .dataframe tbody tr th:only-of-type {\n",
       "        vertical-align: middle;\n",
       "    }\n",
       "\n",
       "    .dataframe tbody tr th {\n",
       "        vertical-align: top;\n",
       "    }\n",
       "\n",
       "    .dataframe thead th {\n",
       "        text-align: right;\n",
       "    }\n",
       "</style>\n",
       "<table border=\"1\" class=\"dataframe\">\n",
       "  <thead>\n",
       "    <tr style=\"text-align: right;\">\n",
       "      <th></th>\n",
       "      <th>ph1_val</th>\n",
       "      <th>ph2_val</th>\n",
       "      <th>temp1_val</th>\n",
       "      <th>temp2_val</th>\n",
       "      <th>timestamp</th>\n",
       "    </tr>\n",
       "  </thead>\n",
       "  <tbody>\n",
       "    <tr>\n",
       "      <th>0</th>\n",
       "      <td>0.352057</td>\n",
       "      <td>0.210964</td>\n",
       "      <td>-0.448198</td>\n",
       "      <td>0.173186</td>\n",
       "      <td>2022-04-02 00:01:00</td>\n",
       "    </tr>\n",
       "    <tr>\n",
       "      <th>1</th>\n",
       "      <td>0.576753</td>\n",
       "      <td>-0.431153</td>\n",
       "      <td>-0.493021</td>\n",
       "      <td>0.519043</td>\n",
       "      <td>2022-04-02 00:02:00</td>\n",
       "    </tr>\n",
       "    <tr>\n",
       "      <th>2</th>\n",
       "      <td>0.452109</td>\n",
       "      <td>1.683796</td>\n",
       "      <td>1.113359</td>\n",
       "      <td>-0.073854</td>\n",
       "      <td>2022-04-02 00:03:00</td>\n",
       "    </tr>\n",
       "    <tr>\n",
       "      <th>3</th>\n",
       "      <td>-1.422447</td>\n",
       "      <td>-0.175165</td>\n",
       "      <td>-0.010512</td>\n",
       "      <td>-1.048065</td>\n",
       "      <td>2022-04-02 00:04:00</td>\n",
       "    </tr>\n",
       "    <tr>\n",
       "      <th>4</th>\n",
       "      <td>-1.095043</td>\n",
       "      <td>1.254025</td>\n",
       "      <td>0.666726</td>\n",
       "      <td>0.905252</td>\n",
       "      <td>2022-04-02 00:05:00</td>\n",
       "    </tr>\n",
       "    <tr>\n",
       "      <th>...</th>\n",
       "      <td>...</td>\n",
       "      <td>...</td>\n",
       "      <td>...</td>\n",
       "      <td>...</td>\n",
       "      <td>...</td>\n",
       "    </tr>\n",
       "    <tr>\n",
       "      <th>14202</th>\n",
       "      <td>-0.919426</td>\n",
       "      <td>1.763568</td>\n",
       "      <td>1.114811</td>\n",
       "      <td>0.119456</td>\n",
       "      <td>2022-04-11 20:43:00</td>\n",
       "    </tr>\n",
       "    <tr>\n",
       "      <th>14203</th>\n",
       "      <td>0.645794</td>\n",
       "      <td>0.305226</td>\n",
       "      <td>-0.596316</td>\n",
       "      <td>-0.508808</td>\n",
       "      <td>2022-04-11 20:44:00</td>\n",
       "    </tr>\n",
       "    <tr>\n",
       "      <th>14204</th>\n",
       "      <td>0.471624</td>\n",
       "      <td>0.802495</td>\n",
       "      <td>0.712701</td>\n",
       "      <td>0.014340</td>\n",
       "      <td>2022-04-11 20:45:00</td>\n",
       "    </tr>\n",
       "    <tr>\n",
       "      <th>14205</th>\n",
       "      <td>-0.157090</td>\n",
       "      <td>-2.371156</td>\n",
       "      <td>-0.264355</td>\n",
       "      <td>0.735837</td>\n",
       "      <td>2022-04-11 20:46:00</td>\n",
       "    </tr>\n",
       "    <tr>\n",
       "      <th>14206</th>\n",
       "      <td>NaN</td>\n",
       "      <td>NaN</td>\n",
       "      <td>NaN</td>\n",
       "      <td>-0.271803</td>\n",
       "      <td>2022-04-11 20:46:00</td>\n",
       "    </tr>\n",
       "  </tbody>\n",
       "</table>\n",
       "<p>14207 rows × 5 columns</p>\n",
       "</div>"
      ],
      "text/plain": [
       "        ph1_val   ph2_val  temp1_val  temp2_val           timestamp\n",
       "0      0.352057  0.210964  -0.448198   0.173186 2022-04-02 00:01:00\n",
       "1      0.576753 -0.431153  -0.493021   0.519043 2022-04-02 00:02:00\n",
       "2      0.452109  1.683796   1.113359  -0.073854 2022-04-02 00:03:00\n",
       "3     -1.422447 -0.175165  -0.010512  -1.048065 2022-04-02 00:04:00\n",
       "4     -1.095043  1.254025   0.666726   0.905252 2022-04-02 00:05:00\n",
       "...         ...       ...        ...        ...                 ...\n",
       "14202 -0.919426  1.763568   1.114811   0.119456 2022-04-11 20:43:00\n",
       "14203  0.645794  0.305226  -0.596316  -0.508808 2022-04-11 20:44:00\n",
       "14204  0.471624  0.802495   0.712701   0.014340 2022-04-11 20:45:00\n",
       "14205 -0.157090 -2.371156  -0.264355   0.735837 2022-04-11 20:46:00\n",
       "14206       NaN       NaN        NaN  -0.271803 2022-04-11 20:46:00\n",
       "\n",
       "[14207 rows x 5 columns]"
      ]
     },
     "execution_count": 16,
     "metadata": {},
     "output_type": "execute_result"
    }
   ],
   "source": [
    "sensors"
   ]
  },
  {
   "cell_type": "markdown",
   "metadata": {},
   "source": [
    "### 3. create one centralised metadata df"
   ]
  },
  {
   "cell_type": "markdown",
   "metadata": {},
   "source": [
    "Lets create a aggregated \"metadata\" df. This is possible since every batch (except None) consists of two phases."
   ]
  },
  {
   "cell_type": "markdown",
   "metadata": {},
   "source": [
    "Now this is interesting, since we need a lookup function (as I didnt find a pandas native one) which means we lose some efficiency here. The reason why this is this interesting is: how to implement this in SQL? We might need a \"special\" psql function for it 🙃"
   ]
  },
  {
   "cell_type": "code",
   "execution_count": null,
   "metadata": {},
   "outputs": [],
   "source": [
    "def get_batch_id(timestamps: Tuple[datetime.datetime, datetime.datetime], BatchPhase: str) -> str:\n",
    "    # assuming all batches start with the preperation phase (in line with the description)\n",
    "    # and end at the end of the cultivation phase:\n",
    "    if BatchPhase == \"preperation\":\n",
    "        return binf.loc[binf['BatchStart'] == timestamps[0]].BatchID.values[0]\n",
    "    if BatchPhase == \"cultivation\":\n",
    "        return binf.loc[binf['BatchEnd'] == timestamps[1]].BatchID.values[0]\n",
    "    raise NotImplementedError(\"BatchPhase is not (preperation || cultivation)\")"
   ]
  },
  {
   "cell_type": "code",
   "execution_count": null,
   "metadata": {},
   "outputs": [],
   "source": [
    "metadata = bphase\n",
    "metadata[\"BatchID\"] = bphase.apply(lambda row: get_batch_id(timestamps=(row.PhaseStart, row[\"PhaseEnd\"]), BatchPhase=row[\"BatchPhase\"]), axis=1)\n"
   ]
  },
  {
   "cell_type": "code",
   "execution_count": null,
   "metadata": {},
   "outputs": [
    {
     "data": {
      "text/html": [
       "<div>\n",
       "<style scoped>\n",
       "    .dataframe tbody tr th:only-of-type {\n",
       "        vertical-align: middle;\n",
       "    }\n",
       "\n",
       "    .dataframe tbody tr th {\n",
       "        vertical-align: top;\n",
       "    }\n",
       "\n",
       "    .dataframe thead th {\n",
       "        text-align: right;\n",
       "    }\n",
       "</style>\n",
       "<table border=\"1\" class=\"dataframe\">\n",
       "  <thead>\n",
       "    <tr style=\"text-align: right;\">\n",
       "      <th></th>\n",
       "      <th>BatchPhase</th>\n",
       "      <th>PhaseStart</th>\n",
       "      <th>PhaseEnd</th>\n",
       "      <th>BatchID</th>\n",
       "    </tr>\n",
       "  </thead>\n",
       "  <tbody>\n",
       "    <tr>\n",
       "      <th>0</th>\n",
       "      <td>preperation</td>\n",
       "      <td>2022-04-02 00:00:26</td>\n",
       "      <td>2022-04-02 01:17:26</td>\n",
       "      <td>AP400E0101</td>\n",
       "    </tr>\n",
       "    <tr>\n",
       "      <th>1</th>\n",
       "      <td>cultivation</td>\n",
       "      <td>2022-04-02 01:17:26</td>\n",
       "      <td>2022-04-02 22:45:26</td>\n",
       "      <td>AP400E0101</td>\n",
       "    </tr>\n",
       "    <tr>\n",
       "      <th>2</th>\n",
       "      <td>preperation</td>\n",
       "      <td>2022-04-03 02:03:26</td>\n",
       "      <td>2022-04-03 04:14:26</td>\n",
       "      <td>TEST_001</td>\n",
       "    </tr>\n",
       "    <tr>\n",
       "      <th>3</th>\n",
       "      <td>cultivation</td>\n",
       "      <td>2022-04-03 04:14:26</td>\n",
       "      <td>2022-04-04 00:55:26</td>\n",
       "      <td>TEST_001</td>\n",
       "    </tr>\n",
       "    <tr>\n",
       "      <th>4</th>\n",
       "      <td>preperation</td>\n",
       "      <td>2022-04-04 04:12:26</td>\n",
       "      <td>2022-04-04 05:29:26</td>\n",
       "      <td>AP400E0102</td>\n",
       "    </tr>\n",
       "    <tr>\n",
       "      <th>5</th>\n",
       "      <td>cultivation</td>\n",
       "      <td>2022-04-04 05:29:26</td>\n",
       "      <td>2022-04-05 02:09:26</td>\n",
       "      <td>AP400E0102</td>\n",
       "    </tr>\n",
       "    <tr>\n",
       "      <th>6</th>\n",
       "      <td>preperation</td>\n",
       "      <td>2022-04-05 05:34:26</td>\n",
       "      <td>2022-04-05 06:52:26</td>\n",
       "      <td>TEST_002</td>\n",
       "    </tr>\n",
       "    <tr>\n",
       "      <th>7</th>\n",
       "      <td>cultivation</td>\n",
       "      <td>2022-04-05 06:52:26</td>\n",
       "      <td>2022-04-06 06:04:26</td>\n",
       "      <td>TEST_002</td>\n",
       "    </tr>\n",
       "    <tr>\n",
       "      <th>8</th>\n",
       "      <td>preperation</td>\n",
       "      <td>2022-04-06 08:23:26</td>\n",
       "      <td>2022-04-06 11:07:26</td>\n",
       "      <td>BP400E0101</td>\n",
       "    </tr>\n",
       "    <tr>\n",
       "      <th>9</th>\n",
       "      <td>cultivation</td>\n",
       "      <td>2022-04-06 11:07:26</td>\n",
       "      <td>2022-04-07 07:45:26</td>\n",
       "      <td>BP400E0101</td>\n",
       "    </tr>\n",
       "    <tr>\n",
       "      <th>10</th>\n",
       "      <td>preperation</td>\n",
       "      <td>2022-04-07 10:40:26</td>\n",
       "      <td>2022-04-07 12:26:26</td>\n",
       "      <td>BP400E0102</td>\n",
       "    </tr>\n",
       "    <tr>\n",
       "      <th>11</th>\n",
       "      <td>cultivation</td>\n",
       "      <td>2022-04-07 12:26:26</td>\n",
       "      <td>2022-04-08 10:38:26</td>\n",
       "      <td>BP400E0102</td>\n",
       "    </tr>\n",
       "    <tr>\n",
       "      <th>12</th>\n",
       "      <td>preperation</td>\n",
       "      <td>2022-04-08 12:51:26</td>\n",
       "      <td>2022-04-08 14:51:26</td>\n",
       "      <td>CP400E0101</td>\n",
       "    </tr>\n",
       "    <tr>\n",
       "      <th>13</th>\n",
       "      <td>cultivation</td>\n",
       "      <td>2022-04-08 14:51:26</td>\n",
       "      <td>2022-04-09 12:36:26</td>\n",
       "      <td>CP400E0101</td>\n",
       "    </tr>\n",
       "    <tr>\n",
       "      <th>14</th>\n",
       "      <td>preperation</td>\n",
       "      <td>2022-04-09 16:25:26</td>\n",
       "      <td>2022-04-09 18:40:26</td>\n",
       "      <td>TEST_003</td>\n",
       "    </tr>\n",
       "    <tr>\n",
       "      <th>15</th>\n",
       "      <td>cultivation</td>\n",
       "      <td>2022-04-09 18:40:26</td>\n",
       "      <td>2022-04-10 15:05:26</td>\n",
       "      <td>TEST_003</td>\n",
       "    </tr>\n",
       "    <tr>\n",
       "      <th>16</th>\n",
       "      <td>preperation</td>\n",
       "      <td>2022-04-10 18:07:26</td>\n",
       "      <td>2022-04-10 19:36:26</td>\n",
       "      <td>CP400E0102</td>\n",
       "    </tr>\n",
       "    <tr>\n",
       "      <th>17</th>\n",
       "      <td>cultivation</td>\n",
       "      <td>2022-04-10 19:36:26</td>\n",
       "      <td>2022-04-11 17:18:26</td>\n",
       "      <td>CP400E0102</td>\n",
       "    </tr>\n",
       "  </tbody>\n",
       "</table>\n",
       "</div>"
      ],
      "text/plain": [
       "     BatchPhase          PhaseStart            PhaseEnd     BatchID\n",
       "0   preperation 2022-04-02 00:00:26 2022-04-02 01:17:26  AP400E0101\n",
       "1   cultivation 2022-04-02 01:17:26 2022-04-02 22:45:26  AP400E0101\n",
       "2   preperation 2022-04-03 02:03:26 2022-04-03 04:14:26    TEST_001\n",
       "3   cultivation 2022-04-03 04:14:26 2022-04-04 00:55:26    TEST_001\n",
       "4   preperation 2022-04-04 04:12:26 2022-04-04 05:29:26  AP400E0102\n",
       "5   cultivation 2022-04-04 05:29:26 2022-04-05 02:09:26  AP400E0102\n",
       "6   preperation 2022-04-05 05:34:26 2022-04-05 06:52:26    TEST_002\n",
       "7   cultivation 2022-04-05 06:52:26 2022-04-06 06:04:26    TEST_002\n",
       "8   preperation 2022-04-06 08:23:26 2022-04-06 11:07:26  BP400E0101\n",
       "9   cultivation 2022-04-06 11:07:26 2022-04-07 07:45:26  BP400E0101\n",
       "10  preperation 2022-04-07 10:40:26 2022-04-07 12:26:26  BP400E0102\n",
       "11  cultivation 2022-04-07 12:26:26 2022-04-08 10:38:26  BP400E0102\n",
       "12  preperation 2022-04-08 12:51:26 2022-04-08 14:51:26  CP400E0101\n",
       "13  cultivation 2022-04-08 14:51:26 2022-04-09 12:36:26  CP400E0101\n",
       "14  preperation 2022-04-09 16:25:26 2022-04-09 18:40:26    TEST_003\n",
       "15  cultivation 2022-04-09 18:40:26 2022-04-10 15:05:26    TEST_003\n",
       "16  preperation 2022-04-10 18:07:26 2022-04-10 19:36:26  CP400E0102\n",
       "17  cultivation 2022-04-10 19:36:26 2022-04-11 17:18:26  CP400E0102"
      ]
     },
     "execution_count": 19,
     "metadata": {},
     "output_type": "execute_result"
    }
   ],
   "source": [
    "metadata"
   ]
  },
  {
   "cell_type": "markdown",
   "metadata": {},
   "source": [
    "Nice, we have all our BatchIDs as well on the "
   ]
  },
  {
   "cell_type": "markdown",
   "metadata": {},
   "source": [
    "### 4. Add all the metadata onto the sensor data"
   ]
  },
  {
   "cell_type": "code",
   "execution_count": null,
   "metadata": {},
   "outputs": [],
   "source": [
    "sensors[\"BatchID\"] = None\n",
    "sensors[\"BatchPhase\"] = None\n",
    "\n",
    "for index, row in metadata.iterrows():\n",
    "    mask = (sensors.timestamp >= metadata.PhaseStart[index]) & (sensors.timestamp <= metadata.PhaseEnd[index])\n",
    "    sensors.loc[mask, \"BatchID\"] = row[\"BatchID\"]\n",
    "    sensors.loc[mask, \"BatchPhase\"] = row[\"BatchPhase\"]\n"
   ]
  },
  {
   "cell_type": "markdown",
   "metadata": {},
   "source": [
    "### 5. Plotting function for the batches"
   ]
  },
  {
   "cell_type": "code",
   "execution_count": null,
   "metadata": {},
   "outputs": [],
   "source": [
    "def make_report(id: str, granularity: str):\n",
    "    valid = {\"daily\", \"hourly\", \"minutely\"}\n",
    "    if granularity not in valid:\n",
    "        raise ValueError(\"make_report: granularity must be one of %r.\" % valid)\n",
    "\n",
    "    # Lets get the cols with the ID, and correct batchphase\n",
    "    df = sensors.copy().loc[sensors[\"BatchID\"]== id]\n",
    "    df = df.loc[df[\"BatchPhase\"] == \"cultivation\"]\n",
    "\n",
    "    # Lets print the requirements\n",
    "    start = df.timestamp.min()\n",
    "    end = df.timestamp.max()\n",
    "    duration = end - start\n",
    "    df[\"ph1-ph2\"] = df[\"ph1_val\"]-df[\"ph2_val\"]\n",
    "    df[\"temp1-temp2\"] = df[\"temp1_val\"]-df[\"temp2_val\"]\n",
    "    \n",
    "\n",
    "    df = df[[\"ph1_val\",\"ph2_val\", \"temp1_val\", \"temp2_val\", \"BatchID\", \"ph1-ph2\",\"temp1-temp2\", \"timestamp\"]]\n",
    "\n",
    "    if granularity == \"daily\":\n",
    "        df = df.groupby([df[\"timestamp\"].dt.day])\n",
    "    if granularity == \"hourly\":\n",
    "        df = df.groupby([df[\"timestamp\"].dt.hour])\n",
    "    if granularity == \"minutely\":\n",
    "        df = df.groupby([df[\"timestamp\"].dt.minute])\n",
    "    \n",
    "    pf = df.mean()\n",
    "    pf[\"from\"] = df.first()[\"timestamp\"]\n",
    "    pf[\"to\"] = df.last()[\"timestamp\"]\n",
    "    pf[\"duration\"] = pf[\"to\"] - pf[\"from\"]\n",
    "    df = pf.copy().sort_values(\"from\").reset_index()\n",
    "    df = df.drop(\"timestamp\", axis=1)\n",
    "    \n",
    "    print(f\"Aggregated mean values {granularity}\\n Batch Start {start}\\n Batch End {end} \\n Batch Duration {end - start}:\")\n",
    "    print(tabulate(df, headers='keys', tablefmt='psql'))\n",
    "\n",
    "    sns.set_theme(style=\"darkgrid\")\n",
    "\n",
    "    # for PH\n",
    "    sns.set(rc={'figure.figsize':(20,9)})\n",
    "\n",
    "    sns.lineplot(y=df[\"ph1-ph2\"], x=df[\"from\"]).set(title='Delta of PH1 & PH2')\n",
    "    sns.set\n",
    "    plt.show()\n",
    "\n",
    "    # for Temp\n",
    "    sns.lineplot(y=df[\"temp1-temp2\"], x=df[\"from\"]).set(title='Delta of Temp1 & Temp2')\n",
    "    plt.show()"
   ]
  },
  {
   "cell_type": "markdown",
   "metadata": {},
   "source": [
    "### Results:"
   ]
  },
  {
   "cell_type": "code",
   "execution_count": null,
   "metadata": {},
   "outputs": [
    {
     "name": "stdout",
     "output_type": "stream",
     "text": [
      "Choose BatchID from here, and you can make a report for it: \n",
      " ['AP400E0101' 'TEST_001' 'AP400E0102' 'TEST_002' 'BP400E0101' 'BP400E0102'\n",
      " 'CP400E0101' 'TEST_003' 'CP400E0102']\n"
     ]
    }
   ],
   "source": [
    "print(\"Choose BatchID from here, and you can make a report for it: \\n\",sensors.BatchID.unique())"
   ]
  },
  {
   "cell_type": "code",
   "execution_count": null,
   "metadata": {},
   "outputs": [
    {
     "name": "stdout",
     "output_type": "stream",
     "text": [
      "Aggregated mean values hourly\n",
      " Batch Start 2022-04-06 11:08:00\n",
      " Batch End 2022-04-07 07:45:00:\n",
      "+----+-----------+-----------+-------------+-------------+--------------+---------------+---------------------+---------------------+-----------------+\n",
      "|    |   ph1_val |   ph2_val |   temp1_val |   temp2_val |      ph1-ph2 |   temp1-temp2 | from                | to                  | duration        |\n",
      "|----+-----------+-----------+-------------+-------------+--------------+---------------+---------------------+---------------------+-----------------|\n",
      "|  0 |  0.230683 |  0.189722 |     4.92718 |     4.13501 |  0.0409606   |     0.792171  | 2022-04-06 11:08:00 | 2022-04-06 11:59:00 | 0 days 00:51:00 |\n",
      "|  1 |  0.894801 |  0.742237 |    13.2752  |    13.2145  |  0.152564    |     0.0606201 | 2022-04-06 12:00:00 | 2022-04-06 12:59:00 | 0 days 00:59:00 |\n",
      "|  2 |  1.51485  |  1.54179  |    18.7287  |    18.7714  | -0.0269426   |    -0.04271   | 2022-04-06 13:00:00 | 2022-04-06 13:59:00 | 0 days 00:59:00 |\n",
      "|  3 |  2.24661  |  2.17491  |    19.2858  |    19.5509  |  0.0717021   |    -0.265093  | 2022-04-06 14:00:00 | 2022-04-06 14:59:00 | 0 days 00:59:00 |\n",
      "|  4 |  2.70733  |  2.70688  |    14.7519  |    15.2987  |  0.000450605 |    -0.546814  | 2022-04-06 15:00:00 | 2022-04-06 15:59:00 | 0 days 00:59:00 |\n",
      "|  5 |  3.37233  |  3.31304  |     6.49471 |     7.06403 |  0.0592889   |    -0.569317  | 2022-04-06 16:00:00 | 2022-04-06 16:59:00 | 0 days 00:59:00 |\n",
      "|  6 |  4.03126  |  4.01388  |    -3.80665 |    -3.41922 |  0.0173779   |    -0.387428  | 2022-04-06 17:00:00 | 2022-04-06 17:59:00 | 0 days 00:59:00 |\n",
      "|  7 |  4.62059  |  4.65957  |   -13.1735  |   -12.9182  | -0.0389767   |    -0.255332  | 2022-04-06 18:00:00 | 2022-04-06 18:59:00 | 0 days 00:59:00 |\n",
      "|  8 |  5.26576  |  5.2575   |   -18.6421  |   -18.8389  |  0.00825502  |     0.196862  | 2022-04-06 19:00:00 | 2022-04-06 19:59:00 | 0 days 00:59:00 |\n",
      "|  9 |  5.87661  |  5.88914  |   -19.6804  |   -19.2964  | -0.0125239   |    -0.38396   | 2022-04-06 20:00:00 | 2022-04-06 20:59:00 | 0 days 00:59:00 |\n",
      "| 10 |  6.63819  |  6.53281  |   -14.7943  |   -14.6625  |  0.105377    |    -0.131801  | 2022-04-06 21:00:00 | 2022-04-06 21:59:00 | 0 days 00:59:00 |\n",
      "| 11 |  7.18804  |  7.15974  |    -6.40446 |    -6.55357 |  0.0283001   |     0.149108  | 2022-04-06 22:00:00 | 2022-04-06 22:59:00 | 0 days 00:59:00 |\n",
      "| 12 |  7.75108  |  7.77536  |     3.93928 |     3.65816 | -0.0242791   |     0.281117  | 2022-04-06 23:00:00 | 2022-04-06 23:59:00 | 0 days 00:59:00 |\n",
      "| 13 |  8.47792  |  8.33282  |    13.2051  |    12.5421  |  0.145108    |     0.662921  | 2022-04-07 00:00:00 | 2022-04-07 00:59:00 | 0 days 00:59:00 |\n",
      "| 14 |  9.08401  |  8.95155  |    18.6793  |    18.7832  |  0.13246     |    -0.103929  | 2022-04-07 01:00:00 | 2022-04-07 01:59:00 | 0 days 00:59:00 |\n",
      "| 15 |  9.59107  |  9.82489  |    19.1754  |    19.0654  | -0.233824    |     0.110029  | 2022-04-07 02:00:00 | 2022-04-07 02:59:00 | 0 days 00:59:00 |\n",
      "| 16 | 10.2631   | 10.262    |    14.644   |    15.4214  |  0.00110166  |    -0.777339  | 2022-04-07 03:00:00 | 2022-04-07 03:59:00 | 0 days 00:59:00 |\n",
      "| 17 | 11.0228   | 10.9437   |     6.13655 |     6.48905 |  0.0790793   |    -0.352503  | 2022-04-07 04:00:00 | 2022-04-07 04:59:00 | 0 days 00:59:00 |\n",
      "| 18 | 11.5864   | 11.6259   |    -3.56813 |    -3.74611 | -0.0394913   |     0.17798   | 2022-04-07 05:00:00 | 2022-04-07 05:59:00 | 0 days 00:59:00 |\n",
      "| 19 | 12.2458   | 12.2072   |   -13.325   |   -13.1017  |  0.0385725   |    -0.223226  | 2022-04-07 06:00:00 | 2022-04-07 06:59:00 | 0 days 00:59:00 |\n",
      "| 20 | 12.6023   | 12.7994   |   -18.3789  |   -17.9689  | -0.197018    |    -0.409987  | 2022-04-07 07:00:00 | 2022-04-07 07:45:00 | 0 days 00:45:00 |\n",
      "+----+-----------+-----------+-------------+-------------+--------------+---------------+---------------------+---------------------+-----------------+\n"
     ]
    },
    {
     "name": "stderr",
     "output_type": "stream",
     "text": [
      "/var/folders/fh/k68j_qj139v36jl0mwc5wzjm0000gn/T/ipykernel_7826/1419172882.py:27: FutureWarning: The default value of numeric_only in DataFrameGroupBy.mean is deprecated. In a future version, numeric_only will default to False. Either specify numeric_only or select only columns which should be valid for the function.\n",
      "  pf = df.mean()\n"
     ]
    },
    {
     "data": {
      "image/png": "[encoded data removed]",
      "text/plain": [
       "<Figure size 2000x900 with 1 Axes>"
      ]
     },
     "metadata": {},
     "output_type": "display_data"
    },
    {
     "data": {
      "image/png": "[encoded data removed]",
      "text/plain": [
       "<Figure size 2000x900 with 1 Axes>"
      ]
     },
     "metadata": {},
     "output_type": "display_data"
    }
   ],
   "source": [
    "make_report(\"BP400E0101\", granularity=\"hourly\")"
   ]
  },
  {
   "cell_type": "markdown",
   "metadata": {},
   "source": [
    "## Solving this in good old SQL"
   ]
  },
  {
   "cell_type": "markdown",
   "metadata": {},
   "source": [
    "Now I know a lot more about this data and have a pretty clear picture in my head about the structure of a generalized relational database (for this use case). I imagine something like the below architecture for the db"
   ]
  },
  {
   "cell_type": "markdown",
   "metadata": {},
   "source": [
    "![](database_uml.jpg)"
   ]
  },
  {
   "cell_type": "markdown",
   "metadata": {},
   "source": [
    "Where `v_metadata`, `v_sensor_data` and `v_sensors_all` are PQSL views, the latter of which could become a materialized view if needed because of performance."
   ]
  },
  {
   "cell_type": "markdown",
   "metadata": {},
   "source": []
  }
 ],
 "metadata": {
  "kernelspec": {
   "display_name": "Python 3.9.6 ('venv': venv)",
   "language": "python",
   "name": "python3"
  },
  "language_info": {
   "codemirror_mode": {
    "name": "ipython",
    "version": 3
   },
   "file_extension": ".py",
   "mimetype": "text/x-python",
   "name": "python",
   "nbconvert_exporter": "python",
   "pygments_lexer": "ipython3",
   "version": "3.9.6"
  },
  "orig_nbformat": 4,
  "vscode": {
   "interpreter": {
    "hash": "911a0ac6d39c31288f1e164b8985a72dd91b06e018c0d149d3ec665146b2c31f"
   }
  }
 },
 "nbformat": 4,
 "nbformat_minor": 2
}
